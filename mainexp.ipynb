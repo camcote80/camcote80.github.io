{
 "cells": [
  {
   "cell_type": "markdown",
   "metadata": {},
   "source": [
    "### Seminar DL"
   ]
  },
  {
   "cell_type": "markdown",
   "metadata": {},
   "source": [
    "Here is the code we use to get a good grade."
   ]
  },
  {
   "cell_type": "code",
   "execution_count": 117,
   "metadata": {},
   "outputs": [],
   "source": [
    "# Import libraries\n",
    "import numpy as np\n",
    "import tensorflow as tf\n",
    "from tensorflow.keras import layers\n",
    "from tensorflow.keras import models\n",
    "from tensorflow.keras.models import Sequential\n",
    "from tensorflow.keras.layers import Dense\n",
    "from tensorflow.keras.models import load_model\n",
    "from tensorflow.keras.callbacks import EarlyStopping\n",
    "from tensorflow.keras.layers import Dropout\n",
    "import matplotlib.pyplot as plt\n",
    "import pandas as pd\n",
    "import scipy as sp\n",
    "import sklearn as sk\n",
    "#from tf.keras import backend as k\n",
    "from tensorflow.python.keras import layers\n",
    "from sklearn.model_selection import train_test_split\n",
    "#from tensorflow.python.keras.models import Sequential\n"
   ]
  },
  {
   "cell_type": "code",
   "execution_count": 118,
   "metadata": {},
   "outputs": [
    {
     "name": "stdout",
     "output_type": "stream",
     "text": [
      "2.0.0-beta1\n",
      "2.2.4-tf\n"
     ]
    }
   ],
   "source": [
    "print(tf.__version__)\n",
    "print(tf.keras.__version__)"
   ]
  },
  {
   "cell_type": "code",
   "execution_count": 119,
   "metadata": {},
   "outputs": [
    {
     "name": "stdout",
     "output_type": "stream",
     "text": [
      "C:\\Users\\cjb86\n"
     ]
    }
   ],
   "source": [
    "# Check working directory\n",
    "import os\n",
    "print(os.getcwd())"
   ]
  },
  {
   "cell_type": "markdown",
   "metadata": {},
   "source": [
    "#### Preprocessing"
   ]
  },
  {
   "cell_type": "markdown",
   "metadata": {},
   "source": [
    "#### ATP model"
   ]
  },
  {
   "cell_type": "code",
   "execution_count": 120,
   "metadata": {},
   "outputs": [],
   "source": [
    "# Load prepocessed data\n",
    "atp_data = pd.read_csv('atp_dataedit1.csv')"
   ]
  },
  {
   "cell_type": "code",
   "execution_count": 121,
   "metadata": {},
   "outputs": [
    {
     "data": {
      "text/plain": [
       "Index(['ATP', 'Location', 'Tournament', 'Date', 'Series', 'Court', 'Surface',\n",
       "       'Round', 'Best of', 'Winner', 'Loser', 'WRank', 'LRank', 'Wsets',\n",
       "       'Lsets', 'Comment', 'PSW', 'PSL', 'B365W', 'B365L', 'elo_winner',\n",
       "       'elo_loser', 'proba_elo'],\n",
       "      dtype='object')"
      ]
     },
     "execution_count": 121,
     "metadata": {},
     "output_type": "execute_result"
    }
   ],
   "source": [
    "atp_data.columns\n"
   ]
  },
  {
   "cell_type": "code",
   "execution_count": 122,
   "metadata": {},
   "outputs": [],
   "source": [
    "\n",
    "atp_data['year'] = atp_data.Date.astype(str).str[-10:-6]\n",
    "atp_data['date'] = pd.to_datetime(atp_data['Date'], format = '%Y%m%d', errors = 'coerce')"
   ]
  },
  {
   "cell_type": "code",
   "execution_count": 123,
   "metadata": {},
   "outputs": [
    {
     "name": "stdout",
     "output_type": "stream",
     "text": [
      "       WRank  LRank   PSW   PSL  B365W  B365L   elo_winner    elo_loser\n",
      "17653      6      8  1.37  3.48   1.33   3.25  1956.268895  1903.306531\n",
      "17654    169     26  2.24  1.71   2.20   1.61  1723.326255  1793.794657\n",
      "17655    209     44  3.14  1.41   2.75   1.40  1494.041611  1697.370640\n",
      "       WRank  LRank   PSW   PSL  B365W  B365L   elo_winner    elo_loser\n",
      "17653      8      6  3.48  1.37   3.25   1.33  1903.306531  1956.268895\n",
      "17654     26    169  1.71  2.24   1.61   2.20  1793.794657  1723.326255\n",
      "17655     44    209  1.41  3.14   1.40   2.75  1697.370640  1494.041611\n"
     ]
    }
   ],
   "source": [
    "#replicate dataset and swap variable to create a stack\n",
    "atp_data2 = atp_data.copy()\n",
    "atp_data2.rename(columns = {'WRank' : 'LRank',\n",
    "                            'PSW' : 'PSL',\n",
    "                            'B365W' : 'B365L',\n",
    "                            'elo_winner' : 'elo_loser',\n",
    "                            'LRank' : 'WRank', \n",
    "                            'PSL':'PSW',\n",
    "                            'B365L':'B365W',\n",
    "                            'elo_loser' : 'elo_winner'},\n",
    "                inplace = True)\n",
    "print(atp_data[['WRank', 'LRank', 'PSW', 'PSL', 'B365W', 'B365L', 'elo_winner','elo_loser']].tail(3))\n",
    "print(atp_data2[['WRank', 'LRank', 'PSW', 'PSL', 'B365W', 'B365L', 'elo_winner','elo_loser']].tail(3))\n",
    "\n",
    "atp_data['won'] = 1 \n",
    "atp_data2['won'] = 0 \n",
    "#stack\n",
    "atp_stack = atp_data.append(atp_data2, ignore_index = True, sort = True)"
   ]
  },
  {
   "cell_type": "code",
   "execution_count": 124,
   "metadata": {},
   "outputs": [],
   "source": [
    "#drop unused variables\n",
    "data = atp_data.drop(['B365W','B365L','PSL','PSW','Comment','ATP','Date','Winner','Loser'],axis = 1)\n",
    "\n",
    "dummy_fields = ['Surface', 'Tournament', 'Round', 'Court', 'Series']\n",
    "for each in dummy_fields:\n",
    "    dummies = pd.get_dummies(data[each], prefix=each, drop_first = True)\n",
    "    data = pd.concat([data, dummies], axis = 1)\n",
    "\n",
    "#target data is to be able to predict winning players\n",
    "target_fields = ['won']\n",
    "X, y = data.drop(target_fields, axis = 1), data[target_fields]\n",
    "\n",
    "X_train, X_test, y_train, y_test = train_test_split(X, y, test_size = 0.25, random_state = 42, shuffle = True )"
   ]
  },
  {
   "cell_type": "code",
   "execution_count": 136,
   "metadata": {},
   "outputs": [],
   "source": [
    "# create model\n",
    "\n",
    "n_cols = X_train.shape[1]\n",
    "model = Sequential()\n",
    "model.add(Dropout(0.25, seed = 42, input_shape = (n_cols, )))\n",
    "\n",
    "model = tf.keras.models.Sequential()\n",
    "model.add(layers.Dense(12, activation='relu'))\n",
    "model.add(layers.Dense(8, activation='relu'))\n",
    "model.add(layers.Dense(1, activation='sigmoid'))"
   ]
  },
  {
   "cell_type": "code",
   "execution_count": 137,
   "metadata": {},
   "outputs": [
    {
     "ename": "ValueError",
     "evalue": "Please provide as model inputs either a single array or a list of arrays. You passed: x=            Location                                    Tournament  \\\n15397          Sofia                       Garanti Koza Sofia Open   \n9568      Cincinnati    Western & Southern Financial Group Masters   \n15045         Vienna                               Erste Bank Open   \n11570         London                                     Wimbledon   \n3396      Casablanca                          Grand Prix Hassan II   \n7781        Auckland                                 Heineken Open   \n520        Marseille                                       Open 13   \n12334        Beijing                                    China Open   \n131         Auckland                                 Heineken Open   \n6087        Belgrade                                   Serbia Open   \n16978       Montreal                                Rogers Masters   \n14600  Winston-Salem  Winston-Salem Open at Wake Forest University   \n15593      Marseille                                       Open 13   \n13285   Indian Wells                              BNP Paribas Open   \n6209            Rome                   Internazionali BNL d'Italia   \n8805           Paris                                   French Open   \n14396     Washington                                     Citi Open   \n1979        New York                                       US Open   \n10889     Casablanca                          Grand Prix Hassan II   \n8882           Paris                                   French Open   \n10774   Indian Wells                              BNP Paribas Open   \n6266            Nice                      Open de Nice Côte d’Azur   \n13034      Marseille                                       Open 13   \n5012        Valencia                             Valencia Open 500   \n3597          Madrid                   Mutua Madrileña Madrid Open   \n2201           Tokyo       Rakuten Japan Open Tennis Championships   \n11309          Paris                                   French Open   \n1579          Bastad                          SkiStar Swedish Open   \n4398        Montreal                                Rogers Masters   \n15336      Melbourne                               Australian Open   \n...              ...                                           ...   \n8838           Paris                                   French Open   \n3890           Halle                              Gerry Weber Open   \n3556          Munich                                      BMW Open   \n11394          Paris                                   French Open   \n1267           Paris                                   French Open   \n1899      Cincinnati    Western & Southern Financial Group Masters   \n3005    Buenos Aires                                    Copa Claro   \n189        Melbourne                               Australian Open   \n2747       Melbourne                               Australian Open   \n8666          Madrid                             Mutua Madrid Open   \n6396     Queens Club                           AEGON Championships   \n17568          Basel                                 Swiss Indoors   \n6420           Halle                              Gerry Weber Open   \n5051           Paris                           BNP Paribas Masters   \n5311       Melbourne                               Australian Open   \n2433        Valencia                             Valencia Open 500   \n769            Miami                            Sony Ericsson Open   \n1685         Hamburg              German Open Tennis Championships   \n8322    Indian Wells                              BNP Paribas Open   \n16023       Budapest                        Gazprom Hungarian Open   \n11363          Paris                                   French Open   \n14423        Toronto                                Rogers Masters   \n4426        Montreal                                Rogers Masters   \n16850         Gstaad                            Suisse Open Gstaad   \n6265            Nice                      Open de Nice Côte d’Azur   \n11284          Paris                                   French Open   \n11964       Montreal                                Rogers Masters   \n5390          Zagreb                            PBZ Zagreb Indoors   \n860      Monte Carlo                           Monte Carlo Masters   \n15795   Indian Wells                              BNP Paribas Open   \n\n             Series    Court Surface          Round  Best of  WRank  LRank  \\\n15397        ATP250   Indoor    Hard      1st Round        3     89    201   \n9568   Masters 1000  Outdoor    Hard      2nd Round        3     23      9   \n15045        ATP500   Indoor    Hard      1st Round        3     26     49   \n11570    Grand Slam  Outdoor   Grass      1st Round        5     26    112   \n3396         ATP250  Outdoor    Clay      The Final        3     69     47   \n7781         ATP250  Outdoor    Hard      The Final        3      5     19   \n520          ATP250   Indoor    Hard      The Final        3     79     39   \n12334        ATP500  Outdoor    Hard      1st Round        3     37      5   \n131          ATP250  Outdoor    Hard  Quarterfinals        3     27     58   \n6087         ATP250  Outdoor    Clay      1st Round        3     96     48   \n16978  Masters 1000  Outdoor    Hard      1st Round        3     66     18   \n14600        ATP250  Outdoor    Hard      3rd Round        3     35     31   \n15593        ATP250   Indoor    Hard      2nd Round        3     16     47   \n13285  Masters 1000  Outdoor    Hard  Quarterfinals        3     14     16   \n6209   Masters 1000  Outdoor    Clay      1st Round        3     54     95   \n8805     Grand Slam  Outdoor    Clay      1st Round        5     57     96   \n14396        ATP500  Outdoor    Hard     Semifinals        3     35     25   \n1979     Grand Slam  Outdoor    Hard      1st Round        5      5    214   \n10889        ATP250  Outdoor    Clay      2nd Round        3     76     65   \n8882     Grand Slam  Outdoor    Clay      2nd Round        5     15     50   \n10774  Masters 1000  Outdoor    Hard     Semifinals        3      1      4   \n6266         ATP250  Outdoor    Clay     Semifinals        3    387     49   \n13034        ATP250   Indoor    Hard      1st Round        3     64     34   \n5012         ATP500   Indoor    Hard      2nd Round        3     10     46   \n3597   Masters 1000  Outdoor    Clay      1st Round        3     55     17   \n2201         ATP500  Outdoor    Hard      1st Round        3     30     46   \n11309    Grand Slam  Outdoor    Clay      1st Round        5     23     72   \n1579         ATP250  Outdoor    Clay      1st Round        3     63    855   \n4398   Masters 1000  Outdoor    Hard      1st Round        3     57     54   \n15336    Grand Slam  Outdoor    Hard      2nd Round        5     10     82   \n...             ...      ...     ...            ...      ...    ...    ...   \n8838     Grand Slam  Outdoor    Clay      1st Round        5    262     52   \n3890         ATP250  Outdoor   Grass      2nd Round        3     18     53   \n3556         ATP250  Outdoor    Clay      2nd Round        3     42    105   \n11394    Grand Slam  Outdoor    Clay     Semifinals        5      9     15   \n1267     Grand Slam  Outdoor    Clay     Semifinals        5      7     17   \n1899   Masters 1000  Outdoor    Hard      2nd Round        3     41     51   \n3005         ATP250  Outdoor    Clay      1st Round        3     13    305   \n189      Grand Slam  Outdoor    Hard      1st Round        5      6    175   \n2747     Grand Slam  Outdoor    Hard      1st Round        5     15    129   \n8666   Masters 1000  Outdoor    Clay      2nd Round        3      2     48   \n6396         ATP250  Outdoor   Grass      1st Round        3     72    127   \n17568        ATP500   Indoor    Hard      2nd Round        3     10     57   \n6420         ATP250  Outdoor   Grass      1st Round        3     33    124   \n5051   Masters 1000   Indoor    Hard      2nd Round        3     20     33   \n5311     Grand Slam  Outdoor    Hard      2nd Round        5     39     14   \n2433         ATP500   Indoor    Hard      1st Round        3     52     53   \n769    Masters 1000  Outdoor    Hard      3rd Round        3      7     53   \n1685         ATP500  Outdoor    Clay      The Final        3     82     15   \n8322   Masters 1000  Outdoor    Hard      4th Round        3      5     67   \n16023        ATP250  Outdoor    Clay      1st Round        3    150     30   \n11363    Grand Slam  Outdoor    Clay      2nd Round        5     22     50   \n14423  Masters 1000  Outdoor    Hard      1st Round        3     23    318   \n4426   Masters 1000  Outdoor    Hard      2nd Round        3     16     68   \n16850        ATP250  Outdoor    Clay      2nd Round        3     61     95   \n6265         ATP250  Outdoor    Clay     Semifinals        3     11     12   \n11284    Grand Slam  Outdoor    Clay      1st Round        5     43    175   \n11964  Masters 1000  Outdoor    Hard      2nd Round        3     14     32   \n5390         ATP250   Indoor    Hard      2nd Round        3     41     42   \n860    Masters 1000  Outdoor    Clay      1st Round        3     77     61   \n15795  Masters 1000  Outdoor    Hard      4th Round        3     16      2   \n\n       Wsets  ...  Round_4th Round  Round_Quarterfinals  Round_Round Robin  \\\n15397    2.0  ...                0                    0                  0   \n9568     2.0  ...                0                    0                  0   \n15045    2.0  ...                0                    0                  0   \n11570    3.0  ...                0                    0                  0   \n3396     2.0  ...                0                    0                  0   \n7781     2.0  ...                0                    0                  0   \n520      2.0  ...                0                    0                  0   \n12334    2.0  ...                0                    0                  0   \n131      2.0  ...                0                    1                  0   \n6087     2.0  ...                0                    0                  0   \n16978    2.0  ...                0                    0                  0   \n14600    2.0  ...                0                    0                  0   \n15593    2.0  ...                0                    0                  0   \n13285    2.0  ...                0                    1                  0   \n6209     2.0  ...                0                    0                  0   \n8805     3.0  ...                0                    0                  0   \n14396    2.0  ...                0                    0                  0   \n1979     3.0  ...                0                    0                  0   \n10889    2.0  ...                0                    0                  0   \n8882     3.0  ...                0                    0                  0   \n10774    2.0  ...                0                    0                  0   \n6266     2.0  ...                0                    0                  0   \n13034    2.0  ...                0                    0                  0   \n5012     2.0  ...                0                    0                  0   \n3597     2.0  ...                0                    0                  0   \n2201     2.0  ...                0                    0                  0   \n11309    3.0  ...                0                    0                  0   \n1579     2.0  ...                0                    0                  0   \n4398     2.0  ...                0                    0                  0   \n15336    3.0  ...                0                    0                  0   \n...      ...  ...              ...                  ...                ...   \n8838     3.0  ...                0                    0                  0   \n3890     2.0  ...                0                    0                  0   \n3556     2.0  ...                0                    0                  0   \n11394    3.0  ...                0                    0                  0   \n1267     3.0  ...                0                    0                  0   \n1899     2.0  ...                0                    0                  0   \n3005     2.0  ...                0                    0                  0   \n189      3.0  ...                0                    0                  0   \n2747     3.0  ...                0                    0                  0   \n8666     2.0  ...                0                    0                  0   \n6396     2.0  ...                0                    0                  0   \n17568    2.0  ...                0                    0                  0   \n6420     2.0  ...                0                    0                  0   \n5051     2.0  ...                0                    0                  0   \n5311     3.0  ...                0                    0                  0   \n2433     2.0  ...                0                    0                  0   \n769      2.0  ...                0                    0                  0   \n1685     2.0  ...                0                    0                  0   \n8322     2.0  ...                1                    0                  0   \n16023    2.0  ...                0                    0                  0   \n11363    3.0  ...                0                    0                  0   \n14423    2.0  ...                0                    0                  0   \n4426     2.0  ...                0                    0                  0   \n16850    2.0  ...                0                    0                  0   \n6265     2.0  ...                0                    0                  0   \n11284    3.0  ...                0                    0                  0   \n11964    2.0  ...                0                    0                  0   \n5390     2.0  ...                0                    0                  0   \n860      2.0  ...                0                    0                  0   \n15795    2.0  ...                1                    0                  0   \n\n       Round_Semifinals Round_The Final Court_Outdoor  Series_ATP500  \\\n15397                 0               0             0              0   \n9568                  0               0             1              0   \n15045                 0               0             0              1   \n11570                 0               0             1              0   \n3396                  0               1             1              0   \n7781                  0               1             1              0   \n520                   0               1             0              0   \n12334                 0               0             1              1   \n131                   0               0             1              0   \n6087                  0               0             1              0   \n16978                 0               0             1              0   \n14600                 0               0             1              0   \n15593                 0               0             0              0   \n13285                 0               0             1              0   \n6209                  0               0             1              0   \n8805                  0               0             1              0   \n14396                 1               0             1              1   \n1979                  0               0             1              0   \n10889                 0               0             1              0   \n8882                  0               0             1              0   \n10774                 1               0             1              0   \n6266                  1               0             1              0   \n13034                 0               0             0              0   \n5012                  0               0             0              1   \n3597                  0               0             1              0   \n2201                  0               0             1              1   \n11309                 0               0             1              0   \n1579                  0               0             1              0   \n4398                  0               0             1              0   \n15336                 0               0             1              0   \n...                 ...             ...           ...            ...   \n8838                  0               0             1              0   \n3890                  0               0             1              0   \n3556                  0               0             1              0   \n11394                 1               0             1              0   \n1267                  1               0             1              0   \n1899                  0               0             1              0   \n3005                  0               0             1              0   \n189                   0               0             1              0   \n2747                  0               0             1              0   \n8666                  0               0             1              0   \n6396                  0               0             1              0   \n17568                 0               0             0              1   \n6420                  0               0             1              0   \n5051                  0               0             0              0   \n5311                  0               0             1              0   \n2433                  0               0             0              1   \n769                   0               0             1              0   \n1685                  0               1             1              1   \n8322                  0               0             1              0   \n16023                 0               0             1              0   \n11363                 0               0             1              0   \n14423                 0               0             1              0   \n4426                  0               0             1              0   \n16850                 0               0             1              0   \n6265                  1               0             1              0   \n11284                 0               0             1              0   \n11964                 0               0             1              0   \n5390                  0               0             0              0   \n860                   0               0             1              0   \n15795                 0               0             1              0   \n\n       Series_Grand Slam  Series_Masters 1000  Series_Masters Cup  \n15397                  0                    0                   0  \n9568                   0                    1                   0  \n15045                  0                    0                   0  \n11570                  1                    0                   0  \n3396                   0                    0                   0  \n7781                   0                    0                   0  \n520                    0                    0                   0  \n12334                  0                    0                   0  \n131                    0                    0                   0  \n6087                   0                    0                   0  \n16978                  0                    1                   0  \n14600                  0                    0                   0  \n15593                  0                    0                   0  \n13285                  0                    1                   0  \n6209                   0                    1                   0  \n8805                   1                    0                   0  \n14396                  0                    0                   0  \n1979                   1                    0                   0  \n10889                  0                    0                   0  \n8882                   1                    0                   0  \n10774                  0                    1                   0  \n6266                   0                    0                   0  \n13034                  0                    0                   0  \n5012                   0                    0                   0  \n3597                   0                    1                   0  \n2201                   0                    0                   0  \n11309                  1                    0                   0  \n1579                   0                    0                   0  \n4398                   0                    1                   0  \n15336                  1                    0                   0  \n...                  ...                  ...                 ...  \n8838                   1                    0                   0  \n3890                   0                    0                   0  \n3556                   0                    0                   0  \n11394                  1                    0                   0  \n1267                   1                    0                   0  \n1899                   0                    1                   0  \n3005                   0                    0                   0  \n189                    1                    0                   0  \n2747                   1                    0                   0  \n8666                   0                    1                   0  \n6396                   0                    0                   0  \n17568                  0                    0                   0  \n6420                   0                    0                   0  \n5051                   0                    1                   0  \n5311                   1                    0                   0  \n2433                   0                    0                   0  \n769                    0                    1                   0  \n1685                   0                    0                   0  \n8322                   0                    1                   0  \n16023                  0                    0                   0  \n11363                  1                    0                   0  \n14423                  0                    1                   0  \n4426                   0                    1                   0  \n16850                  0                    0                   0  \n6265                   0                    0                   0  \n11284                  1                    0                   0  \n11964                  0                    1                   0  \n5390                   0                    0                   0  \n860                    0                    1                   0  \n15795                  0                    1                   0  \n\n[13242 rows x 138 columns]",
     "output_type": "error",
     "traceback": [
      "\u001b[1;31m---------------------------------------------------------------------------\u001b[0m",
      "\u001b[1;31mValueError\u001b[0m                                Traceback (most recent call last)",
      "\u001b[1;32m<ipython-input-137-742e0ff5ff91>\u001b[0m in \u001b[0;36m<module>\u001b[1;34m\u001b[0m\n\u001b[0;32m      2\u001b[0m \u001b[0mmodel\u001b[0m\u001b[1;33m.\u001b[0m\u001b[0mcompile\u001b[0m\u001b[1;33m(\u001b[0m\u001b[0moptimizer\u001b[0m \u001b[1;33m=\u001b[0m \u001b[1;34m'adam'\u001b[0m\u001b[1;33m,\u001b[0m \u001b[0mloss\u001b[0m \u001b[1;33m=\u001b[0m \u001b[1;34m'binary_crossentropy'\u001b[0m\u001b[1;33m,\u001b[0m \u001b[0mmetrics\u001b[0m \u001b[1;33m=\u001b[0m \u001b[1;33m[\u001b[0m\u001b[1;34m'accuracy'\u001b[0m\u001b[1;33m]\u001b[0m\u001b[1;33m)\u001b[0m\u001b[1;33m\u001b[0m\u001b[1;33m\u001b[0m\u001b[0m\n\u001b[0;32m      3\u001b[0m \u001b[0mearly_stopping\u001b[0m \u001b[1;33m=\u001b[0m \u001b[0mEarlyStopping\u001b[0m\u001b[1;33m(\u001b[0m\u001b[0mmonitor\u001b[0m \u001b[1;33m=\u001b[0m \u001b[1;34m'val_loss'\u001b[0m\u001b[1;33m,\u001b[0m \u001b[0mpatience\u001b[0m \u001b[1;33m=\u001b[0m \u001b[1;36m3\u001b[0m\u001b[1;33m)\u001b[0m\u001b[1;33m\u001b[0m\u001b[1;33m\u001b[0m\u001b[0m\n\u001b[1;32m----> 4\u001b[1;33m \u001b[0mhistory\u001b[0m \u001b[1;33m=\u001b[0m \u001b[0mmodel\u001b[0m\u001b[1;33m.\u001b[0m\u001b[0mfit\u001b[0m\u001b[1;33m(\u001b[0m\u001b[0mX_train\u001b[0m\u001b[1;33m,\u001b[0m \u001b[0my_train\u001b[0m\u001b[1;33m,\u001b[0m \u001b[0mepochs\u001b[0m \u001b[1;33m=\u001b[0m \u001b[1;36m20\u001b[0m\u001b[1;33m,\u001b[0m \u001b[0mvalidation_split\u001b[0m \u001b[1;33m=\u001b[0m \u001b[1;36m0.25\u001b[0m\u001b[1;33m,\u001b[0m \u001b[0mbatch_size\u001b[0m \u001b[1;33m=\u001b[0m \u001b[1;36m128\u001b[0m\u001b[1;33m,\u001b[0m \u001b[0mcallbacks\u001b[0m \u001b[1;33m=\u001b[0m \u001b[1;33m[\u001b[0m\u001b[0mearly_stopping\u001b[0m\u001b[1;33m]\u001b[0m\u001b[1;33m)\u001b[0m\u001b[1;33m\u001b[0m\u001b[1;33m\u001b[0m\u001b[0m\n\u001b[0m",
      "\u001b[1;32m~\\Anaconda3\\envs\\tensorflow\\lib\\site-packages\\tensorflow\\python\\keras\\engine\\training.py\u001b[0m in \u001b[0;36mfit\u001b[1;34m(self, x, y, batch_size, epochs, verbose, callbacks, validation_split, validation_data, shuffle, class_weight, sample_weight, initial_epoch, steps_per_epoch, validation_steps, validation_freq, max_queue_size, workers, use_multiprocessing, **kwargs)\u001b[0m\n\u001b[0;32m    641\u001b[0m         \u001b[0mmax_queue_size\u001b[0m\u001b[1;33m=\u001b[0m\u001b[0mmax_queue_size\u001b[0m\u001b[1;33m,\u001b[0m\u001b[1;33m\u001b[0m\u001b[1;33m\u001b[0m\u001b[0m\n\u001b[0;32m    642\u001b[0m         \u001b[0mworkers\u001b[0m\u001b[1;33m=\u001b[0m\u001b[0mworkers\u001b[0m\u001b[1;33m,\u001b[0m\u001b[1;33m\u001b[0m\u001b[1;33m\u001b[0m\u001b[0m\n\u001b[1;32m--> 643\u001b[1;33m         use_multiprocessing=use_multiprocessing)\n\u001b[0m\u001b[0;32m    644\u001b[0m \u001b[1;33m\u001b[0m\u001b[0m\n\u001b[0;32m    645\u001b[0m   def evaluate(self,\n",
      "\u001b[1;32m~\\Anaconda3\\envs\\tensorflow\\lib\\site-packages\\tensorflow\\python\\keras\\engine\\training_arrays.py\u001b[0m in \u001b[0;36mfit\u001b[1;34m(self, model, x, y, batch_size, epochs, verbose, callbacks, validation_split, validation_data, shuffle, class_weight, sample_weight, initial_epoch, steps_per_epoch, validation_steps, validation_freq, **kwargs)\u001b[0m\n\u001b[0;32m    630\u001b[0m         \u001b[0msteps\u001b[0m\u001b[1;33m=\u001b[0m\u001b[0msteps_per_epoch\u001b[0m\u001b[1;33m,\u001b[0m\u001b[1;33m\u001b[0m\u001b[1;33m\u001b[0m\u001b[0m\n\u001b[0;32m    631\u001b[0m         \u001b[0mvalidation_split\u001b[0m\u001b[1;33m=\u001b[0m\u001b[0mvalidation_split\u001b[0m\u001b[1;33m,\u001b[0m\u001b[1;33m\u001b[0m\u001b[1;33m\u001b[0m\u001b[0m\n\u001b[1;32m--> 632\u001b[1;33m         shuffle=shuffle)\n\u001b[0m\u001b[0;32m    633\u001b[0m \u001b[1;33m\u001b[0m\u001b[0m\n\u001b[0;32m    634\u001b[0m     \u001b[1;32mif\u001b[0m \u001b[0mvalidation_data\u001b[0m\u001b[1;33m:\u001b[0m\u001b[1;33m\u001b[0m\u001b[1;33m\u001b[0m\u001b[0m\n",
      "\u001b[1;32m~\\Anaconda3\\envs\\tensorflow\\lib\\site-packages\\tensorflow\\python\\keras\\engine\\training.py\u001b[0m in \u001b[0;36m_standardize_user_data\u001b[1;34m(self, x, y, sample_weight, class_weight, batch_size, check_steps, steps_name, steps, validation_split, shuffle, extract_tensors_from_dataset)\u001b[0m\n\u001b[0;32m   2301\u001b[0m             not tensor_util.is_tensor(x_input)):\n\u001b[0;32m   2302\u001b[0m           raise ValueError('Please provide as model inputs either a single '\n\u001b[1;32m-> 2303\u001b[1;33m                            'array or a list of arrays. You passed: x=' + str(x))\n\u001b[0m\u001b[0;32m   2304\u001b[0m         \u001b[0mall_inputs\u001b[0m\u001b[1;33m.\u001b[0m\u001b[0mappend\u001b[0m\u001b[1;33m(\u001b[0m\u001b[0mx_input\u001b[0m\u001b[1;33m)\u001b[0m\u001b[1;33m\u001b[0m\u001b[1;33m\u001b[0m\u001b[0m\n\u001b[0;32m   2305\u001b[0m \u001b[1;33m\u001b[0m\u001b[0m\n",
      "\u001b[1;31mValueError\u001b[0m: Please provide as model inputs either a single array or a list of arrays. You passed: x=            Location                                    Tournament  \\\n15397          Sofia                       Garanti Koza Sofia Open   \n9568      Cincinnati    Western & Southern Financial Group Masters   \n15045         Vienna                               Erste Bank Open   \n11570         London                                     Wimbledon   \n3396      Casablanca                          Grand Prix Hassan II   \n7781        Auckland                                 Heineken Open   \n520        Marseille                                       Open 13   \n12334        Beijing                                    China Open   \n131         Auckland                                 Heineken Open   \n6087        Belgrade                                   Serbia Open   \n16978       Montreal                                Rogers Masters   \n14600  Winston-Salem  Winston-Salem Open at Wake Forest University   \n15593      Marseille                                       Open 13   \n13285   Indian Wells                              BNP Paribas Open   \n6209            Rome                   Internazionali BNL d'Italia   \n8805           Paris                                   French Open   \n14396     Washington                                     Citi Open   \n1979        New York                                       US Open   \n10889     Casablanca                          Grand Prix Hassan II   \n8882           Paris                                   French Open   \n10774   Indian Wells                              BNP Paribas Open   \n6266            Nice                      Open de Nice Côte d’Azur   \n13034      Marseille                                       Open 13   \n5012        Valencia                             Valencia Open 500   \n3597          Madrid                   Mutua Madrileña Madrid Open   \n2201           Tokyo       Rakuten Japan Open Tennis Championships   \n11309          Paris                                   French Open   \n1579          Bastad                          SkiStar Swedish Open   \n4398        Montreal                                Rogers Masters   \n15336      Melbourne                               Australian Open   \n...              ...                                           ...   \n8838           Paris                                   French Open   \n3890           Halle                              Gerry Weber Open   \n3556          Munich                                      BMW Open   \n11394          Paris                                   French Open   \n1267           Paris                                   French Open   \n1899      Cincinnati    Western & Southern Financial Group Masters   \n3005    Buenos Aires                                    Copa Claro   \n189        Melbourne                               Australian Open   \n2747       Melbourne                               Australian Open   \n8666          Madrid                             Mutua Madrid Open   \n6396     Queens Club                           AEGON Championships   \n17568          Basel                                 Swiss Indoors   \n6420           Halle                              Gerry Weber Open   \n5051           Paris                           BNP Paribas Masters   \n5311       Melbourne                               Australian Open   \n2433        Valencia                             Valencia Open 500   \n769            Miami                            Sony Ericsson Open   \n1685         Hamburg              German Open Tennis Championships   \n8322    Indian Wells                              BNP Paribas Open   \n16023       Budapest                        Gazprom Hungarian Open   \n11363          Paris                                   French Open   \n14423        Toronto                                Rogers Masters   \n4426        Montreal                                Rogers Masters   \n16850         Gstaad                            Suisse Open Gstaad   \n6265            Nice                      Open de Nice Côte d’Azur   \n11284          Paris                                   French Open   \n11964       Montreal                                Rogers Masters   \n5390          Zagreb                            PBZ Zagreb Indoors   \n860      Monte Carlo                           Monte Carlo Masters   \n15795   Indian Wells                              BNP Paribas Open   \n\n             Series    Court Surface          Round  Best of  WRank  LRank  \\\n15397        ATP250   Indoor    Hard      1st Round        3     89    201   \n9568   Masters 1000  Outdoor    Hard      2nd Round        3     23      9   \n15045        ATP500   Indoor    Hard      1st Round        3     26     49   \n11570    Grand Slam  Outdoor   Grass      1st Round        5     26    112   \n3396         ATP250  Outdoor    Clay      The Final        3     69     47   \n7781         ATP250  Outdoor    Hard      The Final        3      5     19   \n520          ATP250   Indoor    Hard      The Final        3     79     39   \n12334        ATP500  Outdoor    Hard      1st Round        3     37      5   \n131          ATP250  Outdoor    Hard  Quarterfinals        3     27     58   \n6087         ATP250  Outdoor    Clay      1st Round        3     96     48   \n16978  Masters 1000  Outdoor    Hard      1st Round        3     66     18   \n14600        ATP250  Outdoor    Hard      3rd Round        3     35     31   \n15593        ATP250   Indoor    Hard      2nd Round        3     16     47   \n13285  Masters 1000  Outdoor    Hard  Quarterfinals        3     14     16   \n6209   Masters 1000  Outdoor    Clay      1st Round        3     54     95   \n8805     Grand Slam  Outdoor    Clay      1st Round        5     57     96   \n14396        ATP500  Outdoor    Hard     Semifinals        3     35     25   \n1979     Grand Slam  Outdoor    Hard      1st Round        5      5    214   \n10889        ATP250  Outdoor    Clay      2nd Round        3     76     65   \n8882     Grand Slam  Outdoor    Clay      2nd Round        5     15     50   \n10774  Masters 1000  Outdoor    Hard     Semifinals        3      1      4   \n6266         ATP250  Outdoor    Clay     Semifinals        3    387     49   \n13034        ATP250   Indoor    Hard      1st Round        3     64     34   \n5012         ATP500   Indoor    Hard      2nd Round        3     10     46   \n3597   Masters 1000  Outdoor    Clay      1st Round        3     55     17   \n2201         ATP500  Outdoor    Hard      1st Round        3     30     46   \n11309    Grand Slam  Outdoor    Clay      1st Round        5     23     72   \n1579         ATP250  Outdoor    Clay      1st Round        3     63    855   \n4398   Masters 1000  Outdoor    Hard      1st Round        3     57     54   \n15336    Grand Slam  Outdoor    Hard      2nd Round        5     10     82   \n...             ...      ...     ...            ...      ...    ...    ...   \n8838     Grand Slam  Outdoor    Clay      1st Round        5    262     52   \n3890         ATP250  Outdoor   Grass      2nd Round        3     18     53   \n3556         ATP250  Outdoor    Clay      2nd Round        3     42    105   \n11394    Grand Slam  Outdoor    Clay     Semifinals        5      9     15   \n1267     Grand Slam  Outdoor    Clay     Semifinals        5      7     17   \n1899   Masters 1000  Outdoor    Hard      2nd Round        3     41     51   \n3005         ATP250  Outdoor    Clay      1st Round        3     13    305   \n189      Grand Slam  Outdoor    Hard      1st Round        5      6    175   \n2747     Grand Slam  Outdoor    Hard      1st Round        5     15    129   \n8666   Masters 1000  Outdoor    Clay      2nd Round        3      2     48   \n6396         ATP250  Outdoor   Grass      1st Round        3     72    127   \n17568        ATP500   Indoor    Hard      2nd Round        3     10     57   \n6420         ATP250  Outdoor   Grass      1st Round        3     33    124   \n5051   Masters 1000   Indoor    Hard      2nd Round        3     20     33   \n5311     Grand Slam  Outdoor    Hard      2nd Round        5     39     14   \n2433         ATP500   Indoor    Hard      1st Round        3     52     53   \n769    Masters 1000  Outdoor    Hard      3rd Round        3      7     53   \n1685         ATP500  Outdoor    Clay      The Final        3     82     15   \n8322   Masters 1000  Outdoor    Hard      4th Round        3      5     67   \n16023        ATP250  Outdoor    Clay      1st Round        3    150     30   \n11363    Grand Slam  Outdoor    Clay      2nd Round        5     22     50   \n14423  Masters 1000  Outdoor    Hard      1st Round        3     23    318   \n4426   Masters 1000  Outdoor    Hard      2nd Round        3     16     68   \n16850        ATP250  Outdoor    Clay      2nd Round        3     61     95   \n6265         ATP250  Outdoor    Clay     Semifinals        3     11     12   \n11284    Grand Slam  Outdoor    Clay      1st Round        5     43    175   \n11964  Masters 1000  Outdoor    Hard      2nd Round        3     14     32   \n5390         ATP250   Indoor    Hard      2nd Round        3     41     42   \n860    Masters 1000  Outdoor    Clay      1st Round        3     77     61   \n15795  Masters 1000  Outdoor    Hard      4th Round        3     16      2   \n\n       Wsets  ...  Round_4th Round  Round_Quarterfinals  Round_Round Robin  \\\n15397    2.0  ...                0                    0                  0   \n9568     2.0  ...                0                    0                  0   \n15045    2.0  ...                0                    0                  0   \n11570    3.0  ...                0                    0                  0   \n3396     2.0  ...                0                    0                  0   \n7781     2.0  ...                0                    0                  0   \n520      2.0  ...                0                    0                  0   \n12334    2.0  ...                0                    0                  0   \n131      2.0  ...                0                    1                  0   \n6087     2.0  ...                0                    0                  0   \n16978    2.0  ...                0                    0                  0   \n14600    2.0  ...                0                    0                  0   \n15593    2.0  ...                0                    0                  0   \n13285    2.0  ...                0                    1                  0   \n6209     2.0  ...                0                    0                  0   \n8805     3.0  ...                0                    0                  0   \n14396    2.0  ...                0                    0                  0   \n1979     3.0  ...                0                    0                  0   \n10889    2.0  ...                0                    0                  0   \n8882     3.0  ...                0                    0                  0   \n10774    2.0  ...                0                    0                  0   \n6266     2.0  ...                0                    0                  0   \n13034    2.0  ...                0                    0                  0   \n5012     2.0  ...                0                    0                  0   \n3597     2.0  ...                0                    0                  0   \n2201     2.0  ...                0                    0                  0   \n11309    3.0  ...                0                    0                  0   \n1579     2.0  ...                0                    0                  0   \n4398     2.0  ...                0                    0                  0   \n15336    3.0  ...                0                    0                  0   \n...      ...  ...              ...                  ...                ...   \n8838     3.0  ...                0                    0                  0   \n3890     2.0  ...                0                    0                  0   \n3556     2.0  ...                0                    0                  0   \n11394    3.0  ...                0                    0                  0   \n1267     3.0  ...                0                    0                  0   \n1899     2.0  ...                0                    0                  0   \n3005     2.0  ...                0                    0                  0   \n189      3.0  ...                0                    0                  0   \n2747     3.0  ...                0                    0                  0   \n8666     2.0  ...                0                    0                  0   \n6396     2.0  ...                0                    0                  0   \n17568    2.0  ...                0                    0                  0   \n6420     2.0  ...                0                    0                  0   \n5051     2.0  ...                0                    0                  0   \n5311     3.0  ...                0                    0                  0   \n2433     2.0  ...                0                    0                  0   \n769      2.0  ...                0                    0                  0   \n1685     2.0  ...                0                    0                  0   \n8322     2.0  ...                1                    0                  0   \n16023    2.0  ...                0                    0                  0   \n11363    3.0  ...                0                    0                  0   \n14423    2.0  ...                0                    0                  0   \n4426     2.0  ...                0                    0                  0   \n16850    2.0  ...                0                    0                  0   \n6265     2.0  ...                0                    0                  0   \n11284    3.0  ...                0                    0                  0   \n11964    2.0  ...                0                    0                  0   \n5390     2.0  ...                0                    0                  0   \n860      2.0  ...                0                    0                  0   \n15795    2.0  ...                1                    0                  0   \n\n       Round_Semifinals Round_The Final Court_Outdoor  Series_ATP500  \\\n15397                 0               0             0              0   \n9568                  0               0             1              0   \n15045                 0               0             0              1   \n11570                 0               0             1              0   \n3396                  0               1             1              0   \n7781                  0               1             1              0   \n520                   0               1             0              0   \n12334                 0               0             1              1   \n131                   0               0             1              0   \n6087                  0               0             1              0   \n16978                 0               0             1              0   \n14600                 0               0             1              0   \n15593                 0               0             0              0   \n13285                 0               0             1              0   \n6209                  0               0             1              0   \n8805                  0               0             1              0   \n14396                 1               0             1              1   \n1979                  0               0             1              0   \n10889                 0               0             1              0   \n8882                  0               0             1              0   \n10774                 1               0             1              0   \n6266                  1               0             1              0   \n13034                 0               0             0              0   \n5012                  0               0             0              1   \n3597                  0               0             1              0   \n2201                  0               0             1              1   \n11309                 0               0             1              0   \n1579                  0               0             1              0   \n4398                  0               0             1              0   \n15336                 0               0             1              0   \n...                 ...             ...           ...            ...   \n8838                  0               0             1              0   \n3890                  0               0             1              0   \n3556                  0               0             1              0   \n11394                 1               0             1              0   \n1267                  1               0             1              0   \n1899                  0               0             1              0   \n3005                  0               0             1              0   \n189                   0               0             1              0   \n2747                  0               0             1              0   \n8666                  0               0             1              0   \n6396                  0               0             1              0   \n17568                 0               0             0              1   \n6420                  0               0             1              0   \n5051                  0               0             0              0   \n5311                  0               0             1              0   \n2433                  0               0             0              1   \n769                   0               0             1              0   \n1685                  0               1             1              1   \n8322                  0               0             1              0   \n16023                 0               0             1              0   \n11363                 0               0             1              0   \n14423                 0               0             1              0   \n4426                  0               0             1              0   \n16850                 0               0             1              0   \n6265                  1               0             1              0   \n11284                 0               0             1              0   \n11964                 0               0             1              0   \n5390                  0               0             0              0   \n860                   0               0             1              0   \n15795                 0               0             1              0   \n\n       Series_Grand Slam  Series_Masters 1000  Series_Masters Cup  \n15397                  0                    0                   0  \n9568                   0                    1                   0  \n15045                  0                    0                   0  \n11570                  1                    0                   0  \n3396                   0                    0                   0  \n7781                   0                    0                   0  \n520                    0                    0                   0  \n12334                  0                    0                   0  \n131                    0                    0                   0  \n6087                   0                    0                   0  \n16978                  0                    1                   0  \n14600                  0                    0                   0  \n15593                  0                    0                   0  \n13285                  0                    1                   0  \n6209                   0                    1                   0  \n8805                   1                    0                   0  \n14396                  0                    0                   0  \n1979                   1                    0                   0  \n10889                  0                    0                   0  \n8882                   1                    0                   0  \n10774                  0                    1                   0  \n6266                   0                    0                   0  \n13034                  0                    0                   0  \n5012                   0                    0                   0  \n3597                   0                    1                   0  \n2201                   0                    0                   0  \n11309                  1                    0                   0  \n1579                   0                    0                   0  \n4398                   0                    1                   0  \n15336                  1                    0                   0  \n...                  ...                  ...                 ...  \n8838                   1                    0                   0  \n3890                   0                    0                   0  \n3556                   0                    0                   0  \n11394                  1                    0                   0  \n1267                   1                    0                   0  \n1899                   0                    1                   0  \n3005                   0                    0                   0  \n189                    1                    0                   0  \n2747                   1                    0                   0  \n8666                   0                    1                   0  \n6396                   0                    0                   0  \n17568                  0                    0                   0  \n6420                   0                    0                   0  \n5051                   0                    1                   0  \n5311                   1                    0                   0  \n2433                   0                    0                   0  \n769                    0                    1                   0  \n1685                   0                    0                   0  \n8322                   0                    1                   0  \n16023                  0                    0                   0  \n11363                  1                    0                   0  \n14423                  0                    1                   0  \n4426                   0                    1                   0  \n16850                  0                    0                   0  \n6265                   0                    0                   0  \n11284                  1                    0                   0  \n11964                  0                    1                   0  \n5390                   0                    0                   0  \n860                    0                    1                   0  \n15795                  0                    1                   0  \n\n[13242 rows x 138 columns]"
     ]
    }
   ],
   "source": [
    "# Compile model\n",
    "model.compile(optimizer = 'adam', loss = 'binary_crossentropy', metrics = ['accuracy'])\n",
    "early_stopping = EarlyStopping(monitor = 'val_loss', patience = 3)\n",
    "history = model.fit(X_train, y_train, epochs = 20, validation_split = 0.25, batch_size = 128, callbacks = [early_stopping])"
   ]
  },
  {
   "cell_type": "code",
   "execution_count": 138,
   "metadata": {},
   "outputs": [
    {
     "ename": "NameError",
     "evalue": "name 'history' is not defined",
     "output_type": "error",
     "traceback": [
      "\u001b[1;31m---------------------------------------------------------------------------\u001b[0m",
      "\u001b[1;31mNameError\u001b[0m                                 Traceback (most recent call last)",
      "\u001b[1;32m<ipython-input-138-baa0947cc517>\u001b[0m in \u001b[0;36m<module>\u001b[1;34m\u001b[0m\n\u001b[1;32m----> 1\u001b[1;33m \u001b[0mplt\u001b[0m\u001b[1;33m.\u001b[0m\u001b[0mplot\u001b[0m\u001b[1;33m(\u001b[0m\u001b[0mhistory\u001b[0m\u001b[1;33m.\u001b[0m\u001b[0mhistory\u001b[0m\u001b[1;33m[\u001b[0m\u001b[1;34m'acc'\u001b[0m\u001b[1;33m]\u001b[0m\u001b[1;33m)\u001b[0m\u001b[1;33m\u001b[0m\u001b[1;33m\u001b[0m\u001b[0m\n\u001b[0m\u001b[0;32m      2\u001b[0m \u001b[0mplt\u001b[0m\u001b[1;33m.\u001b[0m\u001b[0mplot\u001b[0m\u001b[1;33m(\u001b[0m\u001b[0mhistory\u001b[0m\u001b[1;33m.\u001b[0m\u001b[0mhistory\u001b[0m\u001b[1;33m[\u001b[0m\u001b[1;34m'val_acc'\u001b[0m\u001b[1;33m]\u001b[0m\u001b[1;33m)\u001b[0m\u001b[1;33m\u001b[0m\u001b[1;33m\u001b[0m\u001b[0m\n\u001b[0;32m      3\u001b[0m \u001b[0mplt\u001b[0m\u001b[1;33m.\u001b[0m\u001b[0mtitle\u001b[0m\u001b[1;33m(\u001b[0m\u001b[1;34m'Model accuracy'\u001b[0m\u001b[1;33m)\u001b[0m\u001b[1;33m\u001b[0m\u001b[1;33m\u001b[0m\u001b[0m\n\u001b[0;32m      4\u001b[0m \u001b[0mplt\u001b[0m\u001b[1;33m.\u001b[0m\u001b[0mylabel\u001b[0m\u001b[1;33m(\u001b[0m\u001b[1;34m'Accuracy'\u001b[0m\u001b[1;33m)\u001b[0m\u001b[1;33m\u001b[0m\u001b[1;33m\u001b[0m\u001b[0m\n\u001b[0;32m      5\u001b[0m \u001b[0mplt\u001b[0m\u001b[1;33m.\u001b[0m\u001b[0mxlabel\u001b[0m\u001b[1;33m(\u001b[0m\u001b[1;34m'Epoch'\u001b[0m\u001b[1;33m)\u001b[0m\u001b[1;33m\u001b[0m\u001b[1;33m\u001b[0m\u001b[0m\n",
      "\u001b[1;31mNameError\u001b[0m: name 'history' is not defined"
     ]
    }
   ],
   "source": [
    "plt.plot(history.history['acc'])\n",
    "plt.plot(history.history['val_acc'])\n",
    "plt.title('Model accuracy')\n",
    "plt.ylabel('Accuracy')\n",
    "plt.xlabel('Epoch')\n",
    "plt.legend(['Train', 'Test'], loc = 'lower right')\n",
    "plt.show()"
   ]
  },
  {
   "cell_type": "code",
   "execution_count": 128,
   "metadata": {},
   "outputs": [
    {
     "ename": "NameError",
     "evalue": "name 'history' is not defined",
     "output_type": "error",
     "traceback": [
      "\u001b[1;31m---------------------------------------------------------------------------\u001b[0m",
      "\u001b[1;31mNameError\u001b[0m                                 Traceback (most recent call last)",
      "\u001b[1;32m<ipython-input-128-4ff21ca49c36>\u001b[0m in \u001b[0;36m<module>\u001b[1;34m\u001b[0m\n\u001b[1;32m----> 1\u001b[1;33m \u001b[0mplt\u001b[0m\u001b[1;33m.\u001b[0m\u001b[0mplot\u001b[0m\u001b[1;33m(\u001b[0m\u001b[0mhistory\u001b[0m\u001b[1;33m.\u001b[0m\u001b[0mhistory\u001b[0m\u001b[1;33m[\u001b[0m\u001b[1;34m'loss'\u001b[0m\u001b[1;33m]\u001b[0m\u001b[1;33m)\u001b[0m\u001b[1;33m\u001b[0m\u001b[1;33m\u001b[0m\u001b[0m\n\u001b[0m\u001b[0;32m      2\u001b[0m \u001b[0mplt\u001b[0m\u001b[1;33m.\u001b[0m\u001b[0mplot\u001b[0m\u001b[1;33m(\u001b[0m\u001b[0mhistory\u001b[0m\u001b[1;33m.\u001b[0m\u001b[0mhistory\u001b[0m\u001b[1;33m[\u001b[0m\u001b[1;34m'val_loss'\u001b[0m\u001b[1;33m]\u001b[0m\u001b[1;33m)\u001b[0m\u001b[1;33m\u001b[0m\u001b[1;33m\u001b[0m\u001b[0m\n\u001b[0;32m      3\u001b[0m \u001b[0mplt\u001b[0m\u001b[1;33m.\u001b[0m\u001b[0mtitle\u001b[0m\u001b[1;33m(\u001b[0m\u001b[1;34m'Model loss'\u001b[0m\u001b[1;33m)\u001b[0m\u001b[1;33m\u001b[0m\u001b[1;33m\u001b[0m\u001b[0m\n\u001b[0;32m      4\u001b[0m \u001b[0mplt\u001b[0m\u001b[1;33m.\u001b[0m\u001b[0mylabel\u001b[0m\u001b[1;33m(\u001b[0m\u001b[1;34m'Loss'\u001b[0m\u001b[1;33m)\u001b[0m\u001b[1;33m\u001b[0m\u001b[1;33m\u001b[0m\u001b[0m\n\u001b[0;32m      5\u001b[0m \u001b[0mplt\u001b[0m\u001b[1;33m.\u001b[0m\u001b[0mxlabel\u001b[0m\u001b[1;33m(\u001b[0m\u001b[1;34m'Epoch'\u001b[0m\u001b[1;33m)\u001b[0m\u001b[1;33m\u001b[0m\u001b[1;33m\u001b[0m\u001b[0m\n",
      "\u001b[1;31mNameError\u001b[0m: name 'history' is not defined"
     ]
    }
   ],
   "source": [
    "plt.plot(history.history['loss'])\n",
    "plt.plot(history.history['val_loss'])\n",
    "plt.title('Model loss')\n",
    "plt.ylabel('Loss')\n",
    "plt.xlabel('Epoch')\n",
    "plt.legend(['Train', 'Test'], loc='upper right')\n",
    "plt.show()"
   ]
  },
  {
   "cell_type": "code",
   "execution_count": 129,
   "metadata": {},
   "outputs": [
    {
     "ename": "ValueError",
     "evalue": "Error when checking input: expected dense_15_input to have shape (2908,) but got array with shape (138,)",
     "output_type": "error",
     "traceback": [
      "\u001b[1;31m---------------------------------------------------------------------------\u001b[0m",
      "\u001b[1;31mValueError\u001b[0m                                Traceback (most recent call last)",
      "\u001b[1;32m<ipython-input-129-703d80c932e0>\u001b[0m in \u001b[0;36m<module>\u001b[1;34m\u001b[0m\n\u001b[1;32m----> 1\u001b[1;33m \u001b[0mprint\u001b[0m\u001b[1;33m(\u001b[0m\u001b[0mmodel\u001b[0m\u001b[1;33m.\u001b[0m\u001b[0mevaluate\u001b[0m\u001b[1;33m(\u001b[0m\u001b[0mX_test\u001b[0m\u001b[1;33m,\u001b[0m \u001b[0my_test\u001b[0m\u001b[1;33m)\u001b[0m\u001b[1;33m)\u001b[0m\u001b[1;33m\u001b[0m\u001b[1;33m\u001b[0m\u001b[0m\n\u001b[0m\u001b[0;32m      2\u001b[0m \u001b[0mmod_wts\u001b[0m \u001b[1;33m=\u001b[0m \u001b[0mmodel\u001b[0m\u001b[1;33m.\u001b[0m\u001b[0mget_weights\u001b[0m\u001b[1;33m(\u001b[0m\u001b[1;33m)\u001b[0m\u001b[1;33m\u001b[0m\u001b[1;33m\u001b[0m\u001b[0m\n\u001b[0;32m      3\u001b[0m \u001b[0mmodel\u001b[0m\u001b[1;33m.\u001b[0m\u001b[0msummary\u001b[0m\u001b[1;33m(\u001b[0m\u001b[1;33m)\u001b[0m\u001b[1;33m\u001b[0m\u001b[1;33m\u001b[0m\u001b[0m\n",
      "\u001b[1;32m~\\Anaconda3\\envs\\tensorflow\\lib\\site-packages\\tensorflow\\python\\keras\\engine\\training.py\u001b[0m in \u001b[0;36mevaluate\u001b[1;34m(self, x, y, batch_size, verbose, sample_weight, steps, callbacks, max_queue_size, workers, use_multiprocessing)\u001b[0m\n\u001b[0;32m    744\u001b[0m         \u001b[0mmax_queue_size\u001b[0m\u001b[1;33m=\u001b[0m\u001b[0mmax_queue_size\u001b[0m\u001b[1;33m,\u001b[0m\u001b[1;33m\u001b[0m\u001b[1;33m\u001b[0m\u001b[0m\n\u001b[0;32m    745\u001b[0m         \u001b[0mworkers\u001b[0m\u001b[1;33m=\u001b[0m\u001b[0mworkers\u001b[0m\u001b[1;33m,\u001b[0m\u001b[1;33m\u001b[0m\u001b[1;33m\u001b[0m\u001b[0m\n\u001b[1;32m--> 746\u001b[1;33m         use_multiprocessing=use_multiprocessing)\n\u001b[0m\u001b[0;32m    747\u001b[0m \u001b[1;33m\u001b[0m\u001b[0m\n\u001b[0;32m    748\u001b[0m   def predict(self,\n",
      "\u001b[1;32m~\\Anaconda3\\envs\\tensorflow\\lib\\site-packages\\tensorflow\\python\\keras\\engine\\training_arrays.py\u001b[0m in \u001b[0;36mevaluate\u001b[1;34m(self, model, x, y, batch_size, verbose, sample_weight, steps, callbacks, **kwargs)\u001b[0m\n\u001b[0;32m    682\u001b[0m         \u001b[0mcheck_steps\u001b[0m\u001b[1;33m=\u001b[0m\u001b[1;32mTrue\u001b[0m\u001b[1;33m,\u001b[0m\u001b[1;33m\u001b[0m\u001b[1;33m\u001b[0m\u001b[0m\n\u001b[0;32m    683\u001b[0m         \u001b[0msteps_name\u001b[0m\u001b[1;33m=\u001b[0m\u001b[1;34m'steps'\u001b[0m\u001b[1;33m,\u001b[0m\u001b[1;33m\u001b[0m\u001b[1;33m\u001b[0m\u001b[0m\n\u001b[1;32m--> 684\u001b[1;33m         steps=steps)\n\u001b[0m\u001b[0;32m    685\u001b[0m     return test_loop(\n\u001b[0;32m    686\u001b[0m         \u001b[0mmodel\u001b[0m\u001b[1;33m,\u001b[0m\u001b[1;33m\u001b[0m\u001b[1;33m\u001b[0m\u001b[0m\n",
      "\u001b[1;32m~\\Anaconda3\\envs\\tensorflow\\lib\\site-packages\\tensorflow\\python\\keras\\engine\\training.py\u001b[0m in \u001b[0;36m_standardize_user_data\u001b[1;34m(self, x, y, sample_weight, class_weight, batch_size, check_steps, steps_name, steps, validation_split, shuffle, extract_tensors_from_dataset)\u001b[0m\n\u001b[0;32m   2426\u001b[0m           \u001b[0mfeed_input_shapes\u001b[0m\u001b[1;33m,\u001b[0m\u001b[1;33m\u001b[0m\u001b[1;33m\u001b[0m\u001b[0m\n\u001b[0;32m   2427\u001b[0m           \u001b[0mcheck_batch_axis\u001b[0m\u001b[1;33m=\u001b[0m\u001b[1;32mFalse\u001b[0m\u001b[1;33m,\u001b[0m  \u001b[1;31m# Don't enforce the batch size.\u001b[0m\u001b[1;33m\u001b[0m\u001b[1;33m\u001b[0m\u001b[0m\n\u001b[1;32m-> 2428\u001b[1;33m           exception_prefix='input')\n\u001b[0m\u001b[0;32m   2429\u001b[0m \u001b[1;33m\u001b[0m\u001b[0m\n\u001b[0;32m   2430\u001b[0m     \u001b[1;32mif\u001b[0m \u001b[0my\u001b[0m \u001b[1;32mis\u001b[0m \u001b[1;32mnot\u001b[0m \u001b[1;32mNone\u001b[0m\u001b[1;33m:\u001b[0m\u001b[1;33m\u001b[0m\u001b[1;33m\u001b[0m\u001b[0m\n",
      "\u001b[1;32m~\\Anaconda3\\envs\\tensorflow\\lib\\site-packages\\tensorflow\\python\\keras\\engine\\training_utils.py\u001b[0m in \u001b[0;36mstandardize_input_data\u001b[1;34m(data, names, shapes, check_batch_axis, exception_prefix)\u001b[0m\n\u001b[0;32m    519\u001b[0m                              \u001b[1;34m': expected '\u001b[0m \u001b[1;33m+\u001b[0m \u001b[0mnames\u001b[0m\u001b[1;33m[\u001b[0m\u001b[0mi\u001b[0m\u001b[1;33m]\u001b[0m \u001b[1;33m+\u001b[0m \u001b[1;34m' to have shape '\u001b[0m \u001b[1;33m+\u001b[0m\u001b[1;33m\u001b[0m\u001b[1;33m\u001b[0m\u001b[0m\n\u001b[0;32m    520\u001b[0m                              \u001b[0mstr\u001b[0m\u001b[1;33m(\u001b[0m\u001b[0mshape\u001b[0m\u001b[1;33m)\u001b[0m \u001b[1;33m+\u001b[0m \u001b[1;34m' but got array with shape '\u001b[0m \u001b[1;33m+\u001b[0m\u001b[1;33m\u001b[0m\u001b[1;33m\u001b[0m\u001b[0m\n\u001b[1;32m--> 521\u001b[1;33m                              str(data_shape))\n\u001b[0m\u001b[0;32m    522\u001b[0m   \u001b[1;32mreturn\u001b[0m \u001b[0mdata\u001b[0m\u001b[1;33m\u001b[0m\u001b[1;33m\u001b[0m\u001b[0m\n\u001b[0;32m    523\u001b[0m \u001b[1;33m\u001b[0m\u001b[0m\n",
      "\u001b[1;31mValueError\u001b[0m: Error when checking input: expected dense_15_input to have shape (2908,) but got array with shape (138,)"
     ]
    }
   ],
   "source": [
    "print(model.evaluate(X_test, y_test))\n",
    "mod_wts = model.get_weights()\n",
    "model.summary()"
   ]
  },
  {
   "cell_type": "code",
   "execution_count": null,
   "metadata": {},
   "outputs": [],
   "source": []
  }
 ],
 "metadata": {
  "kernelspec": {
   "display_name": "Python 3",
   "language": "python",
   "name": "python3"
  },
  "language_info": {
   "codemirror_mode": {
    "name": "ipython",
    "version": 3
   },
   "file_extension": ".py",
   "mimetype": "text/x-python",
   "name": "python",
   "nbconvert_exporter": "python",
   "pygments_lexer": "ipython3",
   "version": "3.7.3"
  }
 },
 "nbformat": 4,
 "nbformat_minor": 2
}
